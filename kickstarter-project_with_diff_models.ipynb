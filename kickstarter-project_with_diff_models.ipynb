{
 "cells": [
  {
   "cell_type": "code",
   "execution_count": 63,
   "id": "7cd240dd",
   "metadata": {},
   "outputs": [],
   "source": [
    "import pandas as pd\n",
    "from pandas_profiling import ProfileReport\n",
    "from sklearn.model_selection import train_test_split\n",
    "from sklearn.pipeline import make_pipeline\n",
    "from sklearn.ensemble import RandomForestClassifier\n",
    "from sklearn.linear_model import LogisticRegression\n",
    "import numpy as np\n",
    "import matplotlib.pyplot as plt\n",
    "import pickle\n",
    "import dataframe_image as dfi"
   ]
  },
  {
   "cell_type": "code",
   "execution_count": 13,
   "id": "50164db3",
   "metadata": {},
   "outputs": [],
   "source": [
    "df = pd.read_csv('https://raw.githubusercontent.com/mkucz95/kickstarter_data/master/ks-projects-201801.csv')"
   ]
  },
  {
   "cell_type": "markdown",
   "id": "4216c14d",
   "metadata": {},
   "source": [
    "# IA. Exploratory Data Analysis"
   ]
  },
  {
   "cell_type": "code",
   "execution_count": 14,
   "id": "0b6bc828",
   "metadata": {},
   "outputs": [],
   "source": [
    "# report = ProfileReport(df)\n",
    "# report"
   ]
  },
  {
   "cell_type": "markdown",
   "id": "6c3a17ec",
   "metadata": {},
   "source": [
    "# IB. Wrangle Data/Feature Engineering"
   ]
  },
  {
   "cell_type": "code",
   "execution_count": 15,
   "id": "3dcc3d7e",
   "metadata": {},
   "outputs": [],
   "source": [
    "# drop the ID , name , category(sub_category) , usd_pledged , usd_pledged_real ,usd_goal_real\n",
    "df = df[['main_category','launched','deadline','currency','goal','pledged','backers','state']]"
   ]
  },
  {
   "cell_type": "code",
   "execution_count": 16,
   "id": "19ebe66c",
   "metadata": {},
   "outputs": [],
   "source": [
    "# turned the deadline and launched columns to datetime objects\n",
    "df['deadline'] = pd.to_datetime(df['deadline'])\n",
    "df['launched'] = pd.to_datetime(df['launched'])"
   ]
  },
  {
   "cell_type": "code",
   "execution_count": 17,
   "id": "e3037769",
   "metadata": {},
   "outputs": [],
   "source": [
    "# subtracted the deadline from the launched to get the campaign days and created a new feature campaign_length\n",
    "df['campaign_length'] = df['deadline'] - df['launched']\n",
    "df['campaign_length'] = df['campaign_length'].dt.days"
   ]
  },
  {
   "cell_type": "code",
   "execution_count": 18,
   "id": "d48c70c4",
   "metadata": {},
   "outputs": [],
   "source": [
    "# main_category is the only category I will be concerned with\n",
    "df = df.rename(columns={'main_category': 'category'})"
   ]
  },
  {
   "cell_type": "code",
   "execution_count": 19,
   "id": "1854d6dc",
   "metadata": {},
   "outputs": [],
   "source": [
    "df['percentage_pledged'] = (df['pledged'] / df['goal']) * 100\n",
    "# divided the pledged and goal and multiplied by 100 \n",
    "df = df[['category','campaign_length','currency','percentage_pledged','backers','state']]\n",
    "\n",
    "# drop the live and undefined rows , group the cancelled and suspended states to failed\n",
    "df.drop(df[(df.state == 'live')].index,inplace=True)\n",
    "df.drop(df[(df.state == 'undefined')].index,inplace=True)\n",
    "df.loc[df.state == \"canceled\", 'state'] = \"failed\"\n",
    "df.loc[df.state == \"suspended\", 'state'] = \"failed\"\n",
    "\n",
    "# # create dummy variables of currencies \n",
    "# currencies=pd.get_dummies(df.currency,prefix='currency')\n",
    "# df=pd.concat([df,currencies],axis=1)\n",
    "# df.drop('currency', axis=1, inplace=True)\n",
    "\n",
    "# # create dummy variables of categories\n",
    "# categories=pd.get_dummies(df.category,prefix='category')\n",
    "# df=pd.concat([df,categories],axis=1)\n",
    "# df.drop('category', axis=1, inplace=True)\n",
    "\n",
    "# # create dummy variables of states \n",
    "# states=pd.get_dummies(df.state,drop_first=True)\n",
    "# df=pd.concat([df,states],axis=1)\n",
    "# df.drop('state',axis=1,inplace=True)"
   ]
  },
  {
   "cell_type": "code",
   "execution_count": 66,
   "id": "432365a6",
   "metadata": {},
   "outputs": [],
   "source": [
    "test_art=df[df['category']=='Art']"
   ]
  },
  {
   "cell_type": "code",
   "execution_count": 71,
   "id": "8849632a",
   "metadata": {},
   "outputs": [],
   "source": [
    "example=test_art[['percentage_pledged','state']]\n",
    "testing = example[example['percentage_pledged'] >= 100] "
   ]
  },
  {
   "cell_type": "code",
   "execution_count": 73,
   "id": "53d55c2f",
   "metadata": {},
   "outputs": [
    {
     "data": {
      "text/plain": [
       "successful    11508\n",
       "failed           52\n",
       "Name: state, dtype: int64"
      ]
     },
     "execution_count": 73,
     "metadata": {},
     "output_type": "execute_result"
    }
   ],
   "source": [
    "testing.state.value_counts()"
   ]
  },
  {
   "cell_type": "code",
   "execution_count": 75,
   "id": "1b969c5c",
   "metadata": {},
   "outputs": [],
   "source": [
    "testing_2 =  example[example['percentage_pledged'] < 100] "
   ]
  },
  {
   "cell_type": "code",
   "execution_count": 77,
   "id": "e589bffc",
   "metadata": {},
   "outputs": [
    {
     "data": {
      "text/plain": [
       "failed        16397\n",
       "successful        2\n",
       "Name: state, dtype: int64"
      ]
     },
     "execution_count": 77,
     "metadata": {},
     "output_type": "execute_result"
    }
   ],
   "source": [
    "testing_2.state.value_counts()"
   ]
  },
  {
   "cell_type": "code",
   "execution_count": null,
   "id": "457a0f56",
   "metadata": {},
   "outputs": [],
   "source": []
  },
  {
   "cell_type": "code",
   "execution_count": 68,
   "id": "25bf4622",
   "metadata": {},
   "outputs": [],
   "source": [
    "# dfi.export(example, 'dataframe.png')\n",
    "example.to_csv('example_Art.csv', index=False)"
   ]
  },
  {
   "cell_type": "markdown",
   "id": "03f518df",
   "metadata": {},
   "source": [
    "# II. Split Data"
   ]
  },
  {
   "cell_type": "code",
   "execution_count": 10,
   "id": "63dcb345",
   "metadata": {},
   "outputs": [],
   "source": [
    "target = 'successful'\n",
    "y = df[target]\n",
    "X = df.drop(columns=target)"
   ]
  },
  {
   "cell_type": "code",
   "execution_count": 11,
   "id": "1824da1c",
   "metadata": {},
   "outputs": [],
   "source": [
    "X_train, X_test, y_train, y_test = train_test_split(X, y,train_size=.6, test_size=.4, random_state=1)\n",
    "\n",
    "X_test, X_val, y_test, y_val = train_test_split(X_test, y_test,train_size=.5,test_size=.5, random_state=1)"
   ]
  },
  {
   "cell_type": "markdown",
   "id": "38895202",
   "metadata": {},
   "source": [
    "# III. Establish Baseline"
   ]
  },
  {
   "cell_type": "code",
   "execution_count": 12,
   "id": "0667f035",
   "metadata": {},
   "outputs": [
    {
     "data": {
      "text/plain": [
       "0.6408317664965529"
      ]
     },
     "execution_count": 12,
     "metadata": {},
     "output_type": "execute_result"
    }
   ],
   "source": [
    "y_train.value_counts(normalize=True).max()"
   ]
  },
  {
   "cell_type": "code",
   "execution_count": 13,
   "id": "4c55d231",
   "metadata": {},
   "outputs": [
    {
     "name": "stdout",
     "output_type": "stream",
     "text": [
      "Index(['campaign_length', 'percentage_pledged', 'backers', 'currency_AUD',\n",
      "       'currency_CAD', 'currency_CHF', 'currency_DKK', 'currency_EUR',\n",
      "       'currency_GBP', 'currency_HKD', 'currency_JPY', 'currency_MXN',\n",
      "       'currency_NOK', 'currency_NZD', 'currency_SEK', 'currency_SGD',\n",
      "       'currency_USD', 'category_Art', 'category_Comics', 'category_Crafts',\n",
      "       'category_Dance', 'category_Design', 'category_Fashion',\n",
      "       'category_Film & Video', 'category_Food', 'category_Games',\n",
      "       'category_Journalism', 'category_Music', 'category_Photography',\n",
      "       'category_Publishing', 'category_Technology', 'category_Theater',\n",
      "       'successful'],\n",
      "      dtype='object')\n"
     ]
    }
   ],
   "source": [
    "print(df.columns)"
   ]
  },
  {
   "cell_type": "code",
   "execution_count": 14,
   "id": "fe0f21ff",
   "metadata": {},
   "outputs": [
    {
     "data": {
      "text/html": [
       "<div>\n",
       "<style scoped>\n",
       "    .dataframe tbody tr th:only-of-type {\n",
       "        vertical-align: middle;\n",
       "    }\n",
       "\n",
       "    .dataframe tbody tr th {\n",
       "        vertical-align: top;\n",
       "    }\n",
       "\n",
       "    .dataframe thead th {\n",
       "        text-align: right;\n",
       "    }\n",
       "</style>\n",
       "<table border=\"1\" class=\"dataframe\">\n",
       "  <thead>\n",
       "    <tr style=\"text-align: right;\">\n",
       "      <th></th>\n",
       "      <th>campaign_length</th>\n",
       "      <th>percentage_pledged</th>\n",
       "      <th>backers</th>\n",
       "      <th>currency_AUD</th>\n",
       "      <th>currency_CAD</th>\n",
       "      <th>currency_CHF</th>\n",
       "      <th>currency_DKK</th>\n",
       "      <th>currency_EUR</th>\n",
       "      <th>currency_GBP</th>\n",
       "      <th>currency_HKD</th>\n",
       "      <th>...</th>\n",
       "      <th>category_Film &amp; Video</th>\n",
       "      <th>category_Food</th>\n",
       "      <th>category_Games</th>\n",
       "      <th>category_Journalism</th>\n",
       "      <th>category_Music</th>\n",
       "      <th>category_Photography</th>\n",
       "      <th>category_Publishing</th>\n",
       "      <th>category_Technology</th>\n",
       "      <th>category_Theater</th>\n",
       "      <th>successful</th>\n",
       "    </tr>\n",
       "  </thead>\n",
       "  <tbody>\n",
       "    <tr>\n",
       "      <th>0</th>\n",
       "      <td>58</td>\n",
       "      <td>0.000000</td>\n",
       "      <td>0</td>\n",
       "      <td>0</td>\n",
       "      <td>0</td>\n",
       "      <td>0</td>\n",
       "      <td>0</td>\n",
       "      <td>0</td>\n",
       "      <td>1</td>\n",
       "      <td>0</td>\n",
       "      <td>...</td>\n",
       "      <td>0</td>\n",
       "      <td>0</td>\n",
       "      <td>0</td>\n",
       "      <td>0</td>\n",
       "      <td>0</td>\n",
       "      <td>0</td>\n",
       "      <td>1</td>\n",
       "      <td>0</td>\n",
       "      <td>0</td>\n",
       "      <td>0</td>\n",
       "    </tr>\n",
       "    <tr>\n",
       "      <th>1</th>\n",
       "      <td>59</td>\n",
       "      <td>8.070000</td>\n",
       "      <td>15</td>\n",
       "      <td>0</td>\n",
       "      <td>0</td>\n",
       "      <td>0</td>\n",
       "      <td>0</td>\n",
       "      <td>0</td>\n",
       "      <td>0</td>\n",
       "      <td>0</td>\n",
       "      <td>...</td>\n",
       "      <td>1</td>\n",
       "      <td>0</td>\n",
       "      <td>0</td>\n",
       "      <td>0</td>\n",
       "      <td>0</td>\n",
       "      <td>0</td>\n",
       "      <td>0</td>\n",
       "      <td>0</td>\n",
       "      <td>0</td>\n",
       "      <td>0</td>\n",
       "    </tr>\n",
       "    <tr>\n",
       "      <th>2</th>\n",
       "      <td>44</td>\n",
       "      <td>0.488889</td>\n",
       "      <td>3</td>\n",
       "      <td>0</td>\n",
       "      <td>0</td>\n",
       "      <td>0</td>\n",
       "      <td>0</td>\n",
       "      <td>0</td>\n",
       "      <td>0</td>\n",
       "      <td>0</td>\n",
       "      <td>...</td>\n",
       "      <td>1</td>\n",
       "      <td>0</td>\n",
       "      <td>0</td>\n",
       "      <td>0</td>\n",
       "      <td>0</td>\n",
       "      <td>0</td>\n",
       "      <td>0</td>\n",
       "      <td>0</td>\n",
       "      <td>0</td>\n",
       "      <td>0</td>\n",
       "    </tr>\n",
       "    <tr>\n",
       "      <th>3</th>\n",
       "      <td>29</td>\n",
       "      <td>0.020000</td>\n",
       "      <td>1</td>\n",
       "      <td>0</td>\n",
       "      <td>0</td>\n",
       "      <td>0</td>\n",
       "      <td>0</td>\n",
       "      <td>0</td>\n",
       "      <td>0</td>\n",
       "      <td>0</td>\n",
       "      <td>...</td>\n",
       "      <td>0</td>\n",
       "      <td>0</td>\n",
       "      <td>0</td>\n",
       "      <td>0</td>\n",
       "      <td>1</td>\n",
       "      <td>0</td>\n",
       "      <td>0</td>\n",
       "      <td>0</td>\n",
       "      <td>0</td>\n",
       "      <td>0</td>\n",
       "    </tr>\n",
       "    <tr>\n",
       "      <th>4</th>\n",
       "      <td>55</td>\n",
       "      <td>6.579487</td>\n",
       "      <td>14</td>\n",
       "      <td>0</td>\n",
       "      <td>0</td>\n",
       "      <td>0</td>\n",
       "      <td>0</td>\n",
       "      <td>0</td>\n",
       "      <td>0</td>\n",
       "      <td>0</td>\n",
       "      <td>...</td>\n",
       "      <td>1</td>\n",
       "      <td>0</td>\n",
       "      <td>0</td>\n",
       "      <td>0</td>\n",
       "      <td>0</td>\n",
       "      <td>0</td>\n",
       "      <td>0</td>\n",
       "      <td>0</td>\n",
       "      <td>0</td>\n",
       "      <td>0</td>\n",
       "    </tr>\n",
       "    <tr>\n",
       "      <th>...</th>\n",
       "      <td>...</td>\n",
       "      <td>...</td>\n",
       "      <td>...</td>\n",
       "      <td>...</td>\n",
       "      <td>...</td>\n",
       "      <td>...</td>\n",
       "      <td>...</td>\n",
       "      <td>...</td>\n",
       "      <td>...</td>\n",
       "      <td>...</td>\n",
       "      <td>...</td>\n",
       "      <td>...</td>\n",
       "      <td>...</td>\n",
       "      <td>...</td>\n",
       "      <td>...</td>\n",
       "      <td>...</td>\n",
       "      <td>...</td>\n",
       "      <td>...</td>\n",
       "      <td>...</td>\n",
       "      <td>...</td>\n",
       "      <td>...</td>\n",
       "    </tr>\n",
       "    <tr>\n",
       "      <th>378656</th>\n",
       "      <td>29</td>\n",
       "      <td>0.050000</td>\n",
       "      <td>1</td>\n",
       "      <td>0</td>\n",
       "      <td>0</td>\n",
       "      <td>0</td>\n",
       "      <td>0</td>\n",
       "      <td>0</td>\n",
       "      <td>0</td>\n",
       "      <td>0</td>\n",
       "      <td>...</td>\n",
       "      <td>1</td>\n",
       "      <td>0</td>\n",
       "      <td>0</td>\n",
       "      <td>0</td>\n",
       "      <td>0</td>\n",
       "      <td>0</td>\n",
       "      <td>0</td>\n",
       "      <td>0</td>\n",
       "      <td>0</td>\n",
       "      <td>0</td>\n",
       "    </tr>\n",
       "    <tr>\n",
       "      <th>378657</th>\n",
       "      <td>26</td>\n",
       "      <td>10.333333</td>\n",
       "      <td>5</td>\n",
       "      <td>0</td>\n",
       "      <td>0</td>\n",
       "      <td>0</td>\n",
       "      <td>0</td>\n",
       "      <td>0</td>\n",
       "      <td>0</td>\n",
       "      <td>0</td>\n",
       "      <td>...</td>\n",
       "      <td>1</td>\n",
       "      <td>0</td>\n",
       "      <td>0</td>\n",
       "      <td>0</td>\n",
       "      <td>0</td>\n",
       "      <td>0</td>\n",
       "      <td>0</td>\n",
       "      <td>0</td>\n",
       "      <td>0</td>\n",
       "      <td>0</td>\n",
       "    </tr>\n",
       "    <tr>\n",
       "      <th>378658</th>\n",
       "      <td>45</td>\n",
       "      <td>0.133333</td>\n",
       "      <td>1</td>\n",
       "      <td>0</td>\n",
       "      <td>0</td>\n",
       "      <td>0</td>\n",
       "      <td>0</td>\n",
       "      <td>0</td>\n",
       "      <td>0</td>\n",
       "      <td>0</td>\n",
       "      <td>...</td>\n",
       "      <td>1</td>\n",
       "      <td>0</td>\n",
       "      <td>0</td>\n",
       "      <td>0</td>\n",
       "      <td>0</td>\n",
       "      <td>0</td>\n",
       "      <td>0</td>\n",
       "      <td>0</td>\n",
       "      <td>0</td>\n",
       "      <td>0</td>\n",
       "    </tr>\n",
       "    <tr>\n",
       "      <th>378659</th>\n",
       "      <td>30</td>\n",
       "      <td>1.333333</td>\n",
       "      <td>6</td>\n",
       "      <td>0</td>\n",
       "      <td>0</td>\n",
       "      <td>0</td>\n",
       "      <td>0</td>\n",
       "      <td>0</td>\n",
       "      <td>0</td>\n",
       "      <td>0</td>\n",
       "      <td>...</td>\n",
       "      <td>0</td>\n",
       "      <td>0</td>\n",
       "      <td>0</td>\n",
       "      <td>0</td>\n",
       "      <td>0</td>\n",
       "      <td>0</td>\n",
       "      <td>0</td>\n",
       "      <td>1</td>\n",
       "      <td>0</td>\n",
       "      <td>0</td>\n",
       "    </tr>\n",
       "    <tr>\n",
       "      <th>378660</th>\n",
       "      <td>27</td>\n",
       "      <td>26.200000</td>\n",
       "      <td>17</td>\n",
       "      <td>0</td>\n",
       "      <td>0</td>\n",
       "      <td>0</td>\n",
       "      <td>0</td>\n",
       "      <td>0</td>\n",
       "      <td>0</td>\n",
       "      <td>0</td>\n",
       "      <td>...</td>\n",
       "      <td>0</td>\n",
       "      <td>0</td>\n",
       "      <td>0</td>\n",
       "      <td>0</td>\n",
       "      <td>0</td>\n",
       "      <td>0</td>\n",
       "      <td>0</td>\n",
       "      <td>0</td>\n",
       "      <td>0</td>\n",
       "      <td>0</td>\n",
       "    </tr>\n",
       "  </tbody>\n",
       "</table>\n",
       "<p>372300 rows × 33 columns</p>\n",
       "</div>"
      ],
      "text/plain": [
       "        campaign_length  percentage_pledged  backers  currency_AUD  \\\n",
       "0                    58            0.000000        0             0   \n",
       "1                    59            8.070000       15             0   \n",
       "2                    44            0.488889        3             0   \n",
       "3                    29            0.020000        1             0   \n",
       "4                    55            6.579487       14             0   \n",
       "...                 ...                 ...      ...           ...   \n",
       "378656               29            0.050000        1             0   \n",
       "378657               26           10.333333        5             0   \n",
       "378658               45            0.133333        1             0   \n",
       "378659               30            1.333333        6             0   \n",
       "378660               27           26.200000       17             0   \n",
       "\n",
       "        currency_CAD  currency_CHF  currency_DKK  currency_EUR  currency_GBP  \\\n",
       "0                  0             0             0             0             1   \n",
       "1                  0             0             0             0             0   \n",
       "2                  0             0             0             0             0   \n",
       "3                  0             0             0             0             0   \n",
       "4                  0             0             0             0             0   \n",
       "...              ...           ...           ...           ...           ...   \n",
       "378656             0             0             0             0             0   \n",
       "378657             0             0             0             0             0   \n",
       "378658             0             0             0             0             0   \n",
       "378659             0             0             0             0             0   \n",
       "378660             0             0             0             0             0   \n",
       "\n",
       "        currency_HKD  ...  category_Film & Video  category_Food  \\\n",
       "0                  0  ...                      0              0   \n",
       "1                  0  ...                      1              0   \n",
       "2                  0  ...                      1              0   \n",
       "3                  0  ...                      0              0   \n",
       "4                  0  ...                      1              0   \n",
       "...              ...  ...                    ...            ...   \n",
       "378656             0  ...                      1              0   \n",
       "378657             0  ...                      1              0   \n",
       "378658             0  ...                      1              0   \n",
       "378659             0  ...                      0              0   \n",
       "378660             0  ...                      0              0   \n",
       "\n",
       "        category_Games  category_Journalism  category_Music  \\\n",
       "0                    0                    0               0   \n",
       "1                    0                    0               0   \n",
       "2                    0                    0               0   \n",
       "3                    0                    0               1   \n",
       "4                    0                    0               0   \n",
       "...                ...                  ...             ...   \n",
       "378656               0                    0               0   \n",
       "378657               0                    0               0   \n",
       "378658               0                    0               0   \n",
       "378659               0                    0               0   \n",
       "378660               0                    0               0   \n",
       "\n",
       "        category_Photography  category_Publishing  category_Technology  \\\n",
       "0                          0                    1                    0   \n",
       "1                          0                    0                    0   \n",
       "2                          0                    0                    0   \n",
       "3                          0                    0                    0   \n",
       "4                          0                    0                    0   \n",
       "...                      ...                  ...                  ...   \n",
       "378656                     0                    0                    0   \n",
       "378657                     0                    0                    0   \n",
       "378658                     0                    0                    0   \n",
       "378659                     0                    0                    1   \n",
       "378660                     0                    0                    0   \n",
       "\n",
       "        category_Theater  successful  \n",
       "0                      0           0  \n",
       "1                      0           0  \n",
       "2                      0           0  \n",
       "3                      0           0  \n",
       "4                      0           0  \n",
       "...                  ...         ...  \n",
       "378656                 0           0  \n",
       "378657                 0           0  \n",
       "378658                 0           0  \n",
       "378659                 0           0  \n",
       "378660                 0           0  \n",
       "\n",
       "[372300 rows x 33 columns]"
      ]
     },
     "execution_count": 14,
     "metadata": {},
     "output_type": "execute_result"
    }
   ],
   "source": []
  },
  {
   "cell_type": "markdown",
   "id": "bb342cb4",
   "metadata": {},
   "source": [
    "# IV. Build Model"
   ]
  },
  {
   "cell_type": "code",
   "execution_count": 24,
   "id": "6b939ade",
   "metadata": {},
   "outputs": [],
   "source": [
    "# model = RandomForestClassifier()\n",
    "# model.fit(X_train,y_train)"
   ]
  },
  {
   "cell_type": "code",
   "execution_count": 17,
   "id": "3c359e33",
   "metadata": {},
   "outputs": [
    {
     "name": "stderr",
     "output_type": "stream",
     "text": [
      "/Users/rogervieira/opt/anaconda3/lib/python3.8/site-packages/sklearn/linear_model/_logistic.py:814: ConvergenceWarning: lbfgs failed to converge (status=1):\n",
      "STOP: TOTAL NO. of ITERATIONS REACHED LIMIT.\n",
      "\n",
      "Increase the number of iterations (max_iter) or scale the data as shown in:\n",
      "    https://scikit-learn.org/stable/modules/preprocessing.html\n",
      "Please also refer to the documentation for alternative solver options:\n",
      "    https://scikit-learn.org/stable/modules/linear_model.html#logistic-regression\n",
      "  n_iter_i = _check_optimize_result(\n"
     ]
    },
    {
     "data": {
      "text/plain": [
       "LogisticRegression()"
      ]
     },
     "execution_count": 17,
     "metadata": {},
     "output_type": "execute_result"
    }
   ],
   "source": [
    "model_lr = LogisticRegression()\n",
    "model_lr.fit(X_train,y_train)"
   ]
  },
  {
   "cell_type": "code",
   "execution_count": 21,
   "id": "d934b03f",
   "metadata": {
    "scrolled": true
   },
   "outputs": [
    {
     "name": "stdout",
     "output_type": "stream",
     "text": [
      "Select Currency: AUD\n",
      "Select Category: Art\n",
      "Campaign Length: 100\n",
      "percentage_pledged as int: 90\n",
      "Quantity of backers: 456\n",
      "Your kickstarter is a success!\n"
     ]
    },
    {
     "name": "stderr",
     "output_type": "stream",
     "text": [
      "/Users/rogervieira/opt/anaconda3/lib/python3.8/site-packages/sklearn/base.py:445: UserWarning: X does not have valid feature names, but LogisticRegression was fitted with feature names\n",
      "  warnings.warn(\n",
      "/Users/rogervieira/opt/anaconda3/lib/python3.8/site-packages/sklearn/base.py:561: FutureWarning: Arrays of bytes/strings is being converted to decimal numbers if dtype='numeric'. This behavior is deprecated in 0.24 and will be removed in 1.1 (renaming of 0.26). Please convert your data to numeric values explicitly instead.\n",
      "  X = check_array(X, **check_params)\n"
     ]
    }
   ],
   "source": [
    "\n",
    "list_currencies = ['AUD','CAD', 'CHF', 'DKK', 'EUR','GBP', 'HKD', \n",
    "                 'JPY', 'MXN','NOK','NZD', 'SEK', 'SGD','USD']\n",
    "list_categories = ['Art', 'Comics', 'Crafts','Dance', 'Design','Fashion','Film & Video',\n",
    "                   'Food', 'Games','Journalism','Music', 'Photography',\n",
    "                   'Publishing', 'Technology','Theater']\n",
    "\n",
    "\n",
    "def currency_category_select(user_input,list_input):\n",
    "    for x in range(len(list_input)):\n",
    "        if list_input[x] == user_input:\n",
    "            list_input[x] = 1\n",
    "        else:\n",
    "            list_input[x] = 0\n",
    "    return list_input \n",
    "\n",
    "\n",
    "input_currency=input('Select Currency: ')\n",
    "input_categories=input('Select Category: ')\n",
    "input_campaign_length=input('Campaign Length: ')\n",
    "input_percentage_pledged =input('percentage_pledged as int: ')\n",
    "input_backers=input('Quantity of backers: ')\n",
    "\n",
    "input_currency=currency_category_select(input_currency,list_currencies)\n",
    "input_category=currency_category_select(input_categories,list_categories)\n",
    "\n",
    "model_input = np.array([input_campaign_length,input_percentage_pledged,input_backers])\n",
    "model_input = np.append(model_input,input_currency)\n",
    "model_input = np.append(model_input,input_category).reshape(1, -1)\n",
    "\n",
    "if model_lr.predict(model_input)[0] == 1:\n",
    "    print('Your kickstarter is a success!')\n",
    "else: \n",
    "    print('Your kickstarter failed, try again.')\n",
    "\n"
   ]
  },
  {
   "cell_type": "code",
   "execution_count": 19,
   "id": "bc2b72a4",
   "metadata": {},
   "outputs": [
    {
     "name": "stdout",
     "output_type": "stream",
     "text": [
      "Training Accuracy 0.8386471483570597\n",
      "Validation Accuracy 0.8376980929358044\n",
      "Testing Accuracy 0.8364893902766586\n"
     ]
    }
   ],
   "source": [
    "print('Training Accuracy', model_lr.score(X_train, y_train))\n",
    "print('Validation Accuracy', model_lr.score(X_val,y_val))\n",
    "print('Testing Accuracy', model_lr.score(X_test, y_test))"
   ]
  },
  {
   "cell_type": "markdown",
   "id": "74375acf",
   "metadata": {},
   "source": [
    "# V Pickle Data"
   ]
  },
  {
   "cell_type": "code",
   "execution_count": 25,
   "id": "cd544c3a",
   "metadata": {},
   "outputs": [],
   "source": [
    "with open('model_pickle_lr','wb') as f:\n",
    "    pickle.dump(model_lr,f)"
   ]
  },
  {
   "cell_type": "code",
   "execution_count": 20,
   "id": "e2efab84",
   "metadata": {},
   "outputs": [],
   "source": [
    "# with open('model_pickle_lr','rb') as f:\n",
    "#     mp=pickle.load(f)"
   ]
  }
 ],
 "metadata": {
  "kernelspec": {
   "display_name": "Python 3",
   "language": "python",
   "name": "python3"
  },
  "language_info": {
   "codemirror_mode": {
    "name": "ipython",
    "version": 3
   },
   "file_extension": ".py",
   "mimetype": "text/x-python",
   "name": "python",
   "nbconvert_exporter": "python",
   "pygments_lexer": "ipython3",
   "version": "3.8.8"
  }
 },
 "nbformat": 4,
 "nbformat_minor": 5
}
