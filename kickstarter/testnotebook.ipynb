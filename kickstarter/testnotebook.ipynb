{
 "cells": [
  {
   "cell_type": "code",
   "execution_count": 71,
   "metadata": {},
   "outputs": [
    {
     "name": "stdout",
     "output_type": "stream",
     "text": [
      "'failed' with 32.0% likelihood\n"
     ]
    },
    {
     "name": "stderr",
     "output_type": "stream",
     "text": [
      "C:\\Users\\Bernie\\AppData\\Local\\Programs\\Python\\Python37\\lib\\site-packages\\sklearn\\base.py:315: UserWarning: Trying to unpickle estimator SimpleImputer from version 1.0.1 when using version 0.24.2. This might lead to breaking code or invalid results. Use at your own risk.\n",
      "  UserWarning)\n",
      "C:\\Users\\Bernie\\AppData\\Local\\Programs\\Python\\Python37\\lib\\site-packages\\sklearn\\base.py:315: UserWarning: Trying to unpickle estimator DecisionTreeClassifier from version 1.0.1 when using version 0.24.2. This might lead to breaking code or invalid results. Use at your own risk.\n",
      "  UserWarning)\n",
      "C:\\Users\\Bernie\\AppData\\Local\\Programs\\Python\\Python37\\lib\\site-packages\\sklearn\\base.py:315: UserWarning: Trying to unpickle estimator RandomForestClassifier from version 1.0.1 when using version 0.24.2. This might lead to breaking code or invalid results. Use at your own risk.\n",
      "  UserWarning)\n",
      "C:\\Users\\Bernie\\AppData\\Local\\Programs\\Python\\Python37\\lib\\site-packages\\sklearn\\base.py:315: UserWarning: Trying to unpickle estimator Pipeline from version 1.0.1 when using version 0.24.2. This might lead to breaking code or invalid results. Use at your own risk.\n",
      "  UserWarning)\n",
      "C:\\Users\\Bernie\\AppData\\Local\\Programs\\Python\\Python37\\lib\\site-packages\\sklearn\\base.py:315: UserWarning: Trying to unpickle estimator SimpleImputer from version 1.0.1 when using version 0.24.2. This might lead to breaking code or invalid results. Use at your own risk.\n",
      "  UserWarning)\n",
      "C:\\Users\\Bernie\\AppData\\Local\\Programs\\Python\\Python37\\lib\\site-packages\\sklearn\\base.py:315: UserWarning: Trying to unpickle estimator DecisionTreeClassifier from version 1.0.1 when using version 0.24.2. This might lead to breaking code or invalid results. Use at your own risk.\n",
      "  UserWarning)\n",
      "C:\\Users\\Bernie\\AppData\\Local\\Programs\\Python\\Python37\\lib\\site-packages\\sklearn\\base.py:315: UserWarning: Trying to unpickle estimator RandomForestClassifier from version 1.0.1 when using version 0.24.2. This might lead to breaking code or invalid results. Use at your own risk.\n",
      "  UserWarning)\n",
      "C:\\Users\\Bernie\\AppData\\Local\\Programs\\Python\\Python37\\lib\\site-packages\\sklearn\\base.py:315: UserWarning: Trying to unpickle estimator Pipeline from version 1.0.1 when using version 0.24.2. This might lead to breaking code or invalid results. Use at your own risk.\n",
      "  UserWarning)\n"
     ]
    }
   ],
   "source": [
    "import pandas as pd\n",
    "from model import model\n",
    "import pickle\n",
    "\n",
    "\n",
    "# Placeholders to initialize model\n",
    "category = 'Fashion'\n",
    "currency = 'USD'\n",
    "goal = 1000\n",
    "month = 'july'\n",
    "num_backers= 10\n",
    "campaign_length = 20\n",
    "campaign_name_length = 20\n",
    "\n",
    "\n",
    "input_data = pd.DataFrame({'category':[category],'currency':[currency],\n",
    "'goal':[goal],'launched':[month],'backers':[num_backers],\n",
    "'campaign_length':[campaign_length],'name_char_length':[campaign_name_length]})\n",
    "prediction = model(input_data)\n",
    "\n",
    "def model(input_data):\n",
    "    rf = pickle.load(open('rf_model_pickle_2.pkl', 'rb'))\n",
    "    pred = rf.predict(input_data)\n",
    "    passfail = rf.predict_proba(input_data).round(2) * 100\n",
    "    return print(str(pred).replace('[','').replace(']',' ') + \"with\" + \" \" + str(passfail[0][1]) + \"% \" + \"likelihood\")\n",
    "\n",
    "model(input_data)\n",
    "\n",
    "# rf = pickle.load(open('rf_model_pickle_2.pkl', 'rb'))\n",
    "# pred = rf.predict(input_data)\n",
    "# passfail = rf.predict_proba(input_data)\n",
    "# type(passfail)\n"
   ]
  },
  {
   "cell_type": "code",
   "execution_count": 72,
   "metadata": {},
   "outputs": [
    {
     "name": "stdout",
     "output_type": "stream",
     "text": [
      "'failed' with 32.0% likelihood\n"
     ]
    },
    {
     "name": "stderr",
     "output_type": "stream",
     "text": [
      "C:\\Users\\Bernie\\AppData\\Local\\Programs\\Python\\Python37\\lib\\site-packages\\sklearn\\base.py:315: UserWarning: Trying to unpickle estimator SimpleImputer from version 1.0.1 when using version 0.24.2. This might lead to breaking code or invalid results. Use at your own risk.\n",
      "  UserWarning)\n",
      "C:\\Users\\Bernie\\AppData\\Local\\Programs\\Python\\Python37\\lib\\site-packages\\sklearn\\base.py:315: UserWarning: Trying to unpickle estimator DecisionTreeClassifier from version 1.0.1 when using version 0.24.2. This might lead to breaking code or invalid results. Use at your own risk.\n",
      "  UserWarning)\n",
      "C:\\Users\\Bernie\\AppData\\Local\\Programs\\Python\\Python37\\lib\\site-packages\\sklearn\\base.py:315: UserWarning: Trying to unpickle estimator RandomForestClassifier from version 1.0.1 when using version 0.24.2. This might lead to breaking code or invalid results. Use at your own risk.\n",
      "  UserWarning)\n",
      "C:\\Users\\Bernie\\AppData\\Local\\Programs\\Python\\Python37\\lib\\site-packages\\sklearn\\base.py:315: UserWarning: Trying to unpickle estimator Pipeline from version 1.0.1 when using version 0.24.2. This might lead to breaking code or invalid results. Use at your own risk.\n",
      "  UserWarning)\n"
     ]
    }
   ],
   "source": [
    "model(input_data)"
   ]
  },
  {
   "cell_type": "code",
   "execution_count": 97,
   "metadata": {},
   "outputs": [
    {
     "name": "stdout",
     "output_type": "stream",
     "text": [
      "'failed' with 32.0% likelihood\n"
     ]
    },
    {
     "name": "stderr",
     "output_type": "stream",
     "text": [
      "C:\\Users\\Bernie\\AppData\\Local\\Programs\\Python\\Python37\\lib\\site-packages\\sklearn\\base.py:315: UserWarning: Trying to unpickle estimator SimpleImputer from version 1.0.1 when using version 0.24.2. This might lead to breaking code or invalid results. Use at your own risk.\n",
      "  UserWarning)\n",
      "C:\\Users\\Bernie\\AppData\\Local\\Programs\\Python\\Python37\\lib\\site-packages\\sklearn\\base.py:315: UserWarning: Trying to unpickle estimator DecisionTreeClassifier from version 1.0.1 when using version 0.24.2. This might lead to breaking code or invalid results. Use at your own risk.\n",
      "  UserWarning)\n",
      "C:\\Users\\Bernie\\AppData\\Local\\Programs\\Python\\Python37\\lib\\site-packages\\sklearn\\base.py:315: UserWarning: Trying to unpickle estimator RandomForestClassifier from version 1.0.1 when using version 0.24.2. This might lead to breaking code or invalid results. Use at your own risk.\n",
      "  UserWarning)\n",
      "C:\\Users\\Bernie\\AppData\\Local\\Programs\\Python\\Python37\\lib\\site-packages\\sklearn\\base.py:315: UserWarning: Trying to unpickle estimator Pipeline from version 1.0.1 when using version 0.24.2. This might lead to breaking code or invalid results. Use at your own risk.\n",
      "  UserWarning)\n"
     ]
    }
   ],
   "source": [
    "from sklearn.metrics import mean_squared_error\n",
    "pred = rf.predict(input_data)\n",
    "\n",
    "category = 'Fashion'\n",
    "currency = 'USD'\n",
    "goal = 1000 * 0.55\n",
    "month = 'july'\n",
    "num_backers= 10\n",
    "campaign_length = 20 * 2.5\n",
    "campaign_name_length = 20 + 10\n",
    "\n",
    "new_input_data = pd.DataFrame({'category':[category],'currency':[currency],\n",
    "'goal':[goal],'launched':[month],'backers':[num_backers],\n",
    "'campaign_length':[campaign_length],'name_char_length':[campaign_name_length]})\n",
    "prediction = model(input_data)\n",
    "\n",
    "\n",
    "def model(new_input_data):\n",
    "    rf = pickle.load(open('rf_model_pickle_2.pkl', 'rb'))\n",
    "    pred = rf.predict(new_input_data)\n",
    "    passfail = rf.predict_proba(new_input_data).round(2) * 100\n",
    "    return print(str(pred).replace('[','').replace(']',' ') + \"with\" + \" \" + str(passfail[0][1]) + \"% \" + \"likelihood\")"
   ]
  },
  {
   "cell_type": "code",
   "execution_count": 98,
   "metadata": {},
   "outputs": [
    {
     "name": "stdout",
     "output_type": "stream",
     "text": [
      "'failed' with 39.0% likelihood\n"
     ]
    },
    {
     "name": "stderr",
     "output_type": "stream",
     "text": [
      "C:\\Users\\Bernie\\AppData\\Local\\Programs\\Python\\Python37\\lib\\site-packages\\sklearn\\base.py:315: UserWarning: Trying to unpickle estimator SimpleImputer from version 1.0.1 when using version 0.24.2. This might lead to breaking code or invalid results. Use at your own risk.\n",
      "  UserWarning)\n",
      "C:\\Users\\Bernie\\AppData\\Local\\Programs\\Python\\Python37\\lib\\site-packages\\sklearn\\base.py:315: UserWarning: Trying to unpickle estimator DecisionTreeClassifier from version 1.0.1 when using version 0.24.2. This might lead to breaking code or invalid results. Use at your own risk.\n",
      "  UserWarning)\n",
      "C:\\Users\\Bernie\\AppData\\Local\\Programs\\Python\\Python37\\lib\\site-packages\\sklearn\\base.py:315: UserWarning: Trying to unpickle estimator RandomForestClassifier from version 1.0.1 when using version 0.24.2. This might lead to breaking code or invalid results. Use at your own risk.\n",
      "  UserWarning)\n",
      "C:\\Users\\Bernie\\AppData\\Local\\Programs\\Python\\Python37\\lib\\site-packages\\sklearn\\base.py:315: UserWarning: Trying to unpickle estimator Pipeline from version 1.0.1 when using version 0.24.2. This might lead to breaking code or invalid results. Use at your own risk.\n",
      "  UserWarning)\n"
     ]
    }
   ],
   "source": [
    "model(new_input_data)"
   ]
  }
 ],
 "metadata": {
  "interpreter": {
   "hash": "52047ded24e2734465b339522268bc096520dcfef988319d25ea5edc4e49b119"
  },
  "kernelspec": {
   "display_name": "Python 3.7.0 64-bit",
   "language": "python",
   "name": "python3"
  },
  "language_info": {
   "codemirror_mode": {
    "name": "ipython",
    "version": 3
   },
   "file_extension": ".py",
   "mimetype": "text/x-python",
   "name": "python",
   "nbconvert_exporter": "python",
   "pygments_lexer": "ipython3",
   "version": "3.7.0"
  },
  "orig_nbformat": 4
 },
 "nbformat": 4,
 "nbformat_minor": 2
}
