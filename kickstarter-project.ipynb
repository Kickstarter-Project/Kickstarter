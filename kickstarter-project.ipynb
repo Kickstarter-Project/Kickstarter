{
 "cells": [
  {
   "cell_type": "code",
   "execution_count": 1,
   "id": "7cd240dd",
   "metadata": {},
   "outputs": [],
   "source": [
    "import pandas as pd\n",
    "from pandas_profiling import ProfileReport\n",
    "from sklearn.model_selection import train_test_split\n",
    "from sklearn.pipeline import make_pipeline\n",
    "from sklearn.ensemble import RandomForestClassifier\n",
    "import numpy as np\n",
    "import matplotlib.pyplot as plt"
   ]
  },
  {
   "cell_type": "code",
   "execution_count": 2,
   "id": "50164db3",
   "metadata": {},
   "outputs": [],
   "source": [
    "df = pd.read_csv('https://raw.githubusercontent.com/mkucz95/kickstarter_data/master/ks-projects-201801.csv')"
   ]
  },
  {
   "cell_type": "markdown",
   "id": "4216c14d",
   "metadata": {},
   "source": [
    "# IA. Exploratory Data Analysis"
   ]
  },
  {
   "cell_type": "code",
   "execution_count": 81,
   "id": "0b6bc828",
   "metadata": {},
   "outputs": [],
   "source": [
    "# report = ProfileReport(df)\n",
    "# report"
   ]
  },
  {
   "cell_type": "markdown",
   "id": "6c3a17ec",
   "metadata": {},
   "source": [
    "# IB. Wrangle Data/Feature Engineering"
   ]
  },
  {
   "cell_type": "code",
   "execution_count": 3,
   "id": "3dcc3d7e",
   "metadata": {},
   "outputs": [],
   "source": [
    "df = df[['main_category','launched','deadline','currency','goal','pledged','backers','state']]\n",
    "df['deadline'] = pd.to_datetime(df['deadline'])\n",
    "df['launched'] = pd.to_datetime(df['launched'])\n",
    "df = df.rename(columns={'main_category': 'category'})\n",
    "df['campaign_length'] = df['deadline'] - df['launched']\n",
    "df['campaign_length'] = df['campaign_length'].dt.days\n",
    "df['percentage_pledged'] = (df['pledged'] / df['goal']) * 100\n",
    "df = df[['category','campaign_length','currency','percentage_pledged','backers','state']]\n",
    "df.drop(df[(df.state == 'live')].index,inplace=True)\n",
    "df.drop(df[(df.state == 'undefined')].index,inplace=True)\n",
    "df.loc[df.state == \"canceled\", 'state'] = \"failed\"\n",
    "df.loc[df.state == \"suspended\", 'state'] = \"failed\""
   ]
  },
  {
   "cell_type": "code",
   "execution_count": 4,
   "id": "cc70a83e",
   "metadata": {},
   "outputs": [
    {
     "data": {
      "text/plain": [
       "array(['failed', 'successful'], dtype=object)"
      ]
     },
     "execution_count": 4,
     "metadata": {},
     "output_type": "execute_result"
    }
   ],
   "source": [
    "df['state'].unique()"
   ]
  },
  {
   "cell_type": "code",
   "execution_count": 5,
   "id": "7975d691",
   "metadata": {},
   "outputs": [
    {
     "name": "stdout",
     "output_type": "stream",
     "text": [
      "<class 'pandas.core.frame.DataFrame'>\n",
      "Int64Index: 372300 entries, 0 to 378660\n",
      "Data columns (total 6 columns):\n",
      " #   Column              Non-Null Count   Dtype  \n",
      "---  ------              --------------   -----  \n",
      " 0   category            372300 non-null  object \n",
      " 1   campaign_length     372300 non-null  int64  \n",
      " 2   currency            372300 non-null  object \n",
      " 3   percentage_pledged  372300 non-null  float64\n",
      " 4   backers             372300 non-null  int64  \n",
      " 5   state               372300 non-null  object \n",
      "dtypes: float64(1), int64(2), object(3)\n",
      "memory usage: 19.9+ MB\n"
     ]
    }
   ],
   "source": [
    "df.info()"
   ]
  },
  {
   "cell_type": "code",
   "execution_count": 6,
   "id": "285a9cc8",
   "metadata": {},
   "outputs": [],
   "source": [
    "currencies=pd.get_dummies(df.currency,prefix='currency')"
   ]
  },
  {
   "cell_type": "code",
   "execution_count": 8,
   "id": "597c47e5",
   "metadata": {},
   "outputs": [],
   "source": [
    "df=pd.concat([df,currencies],axis=1)"
   ]
  },
  {
   "cell_type": "code",
   "execution_count": 9,
   "id": "1619b8b4",
   "metadata": {},
   "outputs": [],
   "source": [
    "df.drop('currency', axis=1, inplace=True)"
   ]
  },
  {
   "cell_type": "code",
   "execution_count": 10,
   "id": "4646615c",
   "metadata": {},
   "outputs": [],
   "source": [
    "categories=pd.get_dummies(df.category,prefix='category')\n",
    "df=pd.concat([df,categories],axis=1)"
   ]
  },
  {
   "cell_type": "code",
   "execution_count": 11,
   "id": "85ea792f",
   "metadata": {},
   "outputs": [],
   "source": [
    "df.drop('category', axis=1, inplace=True)"
   ]
  },
  {
   "cell_type": "code",
   "execution_count": 12,
   "id": "033e8d68",
   "metadata": {},
   "outputs": [],
   "source": [
    "states=pd.get_dummies(df.state,drop_first=True)\n",
    "df=pd.concat([df,states],axis=1)\n",
    "df.drop('state',axis=1,inplace=True)"
   ]
  },
  {
   "cell_type": "code",
   "execution_count": 13,
   "id": "5cd1f623",
   "metadata": {},
   "outputs": [
    {
     "data": {
      "text/html": [
       "<div>\n",
       "<style scoped>\n",
       "    .dataframe tbody tr th:only-of-type {\n",
       "        vertical-align: middle;\n",
       "    }\n",
       "\n",
       "    .dataframe tbody tr th {\n",
       "        vertical-align: top;\n",
       "    }\n",
       "\n",
       "    .dataframe thead th {\n",
       "        text-align: right;\n",
       "    }\n",
       "</style>\n",
       "<table border=\"1\" class=\"dataframe\">\n",
       "  <thead>\n",
       "    <tr style=\"text-align: right;\">\n",
       "      <th></th>\n",
       "      <th>campaign_length</th>\n",
       "      <th>percentage_pledged</th>\n",
       "      <th>backers</th>\n",
       "      <th>currency_AUD</th>\n",
       "      <th>currency_CAD</th>\n",
       "      <th>currency_CHF</th>\n",
       "      <th>currency_DKK</th>\n",
       "      <th>currency_EUR</th>\n",
       "      <th>currency_GBP</th>\n",
       "      <th>currency_HKD</th>\n",
       "      <th>...</th>\n",
       "      <th>category_Film &amp; Video</th>\n",
       "      <th>category_Food</th>\n",
       "      <th>category_Games</th>\n",
       "      <th>category_Journalism</th>\n",
       "      <th>category_Music</th>\n",
       "      <th>category_Photography</th>\n",
       "      <th>category_Publishing</th>\n",
       "      <th>category_Technology</th>\n",
       "      <th>category_Theater</th>\n",
       "      <th>successful</th>\n",
       "    </tr>\n",
       "  </thead>\n",
       "  <tbody>\n",
       "    <tr>\n",
       "      <th>0</th>\n",
       "      <td>58</td>\n",
       "      <td>0.000000</td>\n",
       "      <td>0</td>\n",
       "      <td>0</td>\n",
       "      <td>0</td>\n",
       "      <td>0</td>\n",
       "      <td>0</td>\n",
       "      <td>0</td>\n",
       "      <td>1</td>\n",
       "      <td>0</td>\n",
       "      <td>...</td>\n",
       "      <td>0</td>\n",
       "      <td>0</td>\n",
       "      <td>0</td>\n",
       "      <td>0</td>\n",
       "      <td>0</td>\n",
       "      <td>0</td>\n",
       "      <td>1</td>\n",
       "      <td>0</td>\n",
       "      <td>0</td>\n",
       "      <td>0</td>\n",
       "    </tr>\n",
       "    <tr>\n",
       "      <th>1</th>\n",
       "      <td>59</td>\n",
       "      <td>8.070000</td>\n",
       "      <td>15</td>\n",
       "      <td>0</td>\n",
       "      <td>0</td>\n",
       "      <td>0</td>\n",
       "      <td>0</td>\n",
       "      <td>0</td>\n",
       "      <td>0</td>\n",
       "      <td>0</td>\n",
       "      <td>...</td>\n",
       "      <td>1</td>\n",
       "      <td>0</td>\n",
       "      <td>0</td>\n",
       "      <td>0</td>\n",
       "      <td>0</td>\n",
       "      <td>0</td>\n",
       "      <td>0</td>\n",
       "      <td>0</td>\n",
       "      <td>0</td>\n",
       "      <td>0</td>\n",
       "    </tr>\n",
       "    <tr>\n",
       "      <th>2</th>\n",
       "      <td>44</td>\n",
       "      <td>0.488889</td>\n",
       "      <td>3</td>\n",
       "      <td>0</td>\n",
       "      <td>0</td>\n",
       "      <td>0</td>\n",
       "      <td>0</td>\n",
       "      <td>0</td>\n",
       "      <td>0</td>\n",
       "      <td>0</td>\n",
       "      <td>...</td>\n",
       "      <td>1</td>\n",
       "      <td>0</td>\n",
       "      <td>0</td>\n",
       "      <td>0</td>\n",
       "      <td>0</td>\n",
       "      <td>0</td>\n",
       "      <td>0</td>\n",
       "      <td>0</td>\n",
       "      <td>0</td>\n",
       "      <td>0</td>\n",
       "    </tr>\n",
       "    <tr>\n",
       "      <th>3</th>\n",
       "      <td>29</td>\n",
       "      <td>0.020000</td>\n",
       "      <td>1</td>\n",
       "      <td>0</td>\n",
       "      <td>0</td>\n",
       "      <td>0</td>\n",
       "      <td>0</td>\n",
       "      <td>0</td>\n",
       "      <td>0</td>\n",
       "      <td>0</td>\n",
       "      <td>...</td>\n",
       "      <td>0</td>\n",
       "      <td>0</td>\n",
       "      <td>0</td>\n",
       "      <td>0</td>\n",
       "      <td>1</td>\n",
       "      <td>0</td>\n",
       "      <td>0</td>\n",
       "      <td>0</td>\n",
       "      <td>0</td>\n",
       "      <td>0</td>\n",
       "    </tr>\n",
       "    <tr>\n",
       "      <th>4</th>\n",
       "      <td>55</td>\n",
       "      <td>6.579487</td>\n",
       "      <td>14</td>\n",
       "      <td>0</td>\n",
       "      <td>0</td>\n",
       "      <td>0</td>\n",
       "      <td>0</td>\n",
       "      <td>0</td>\n",
       "      <td>0</td>\n",
       "      <td>0</td>\n",
       "      <td>...</td>\n",
       "      <td>1</td>\n",
       "      <td>0</td>\n",
       "      <td>0</td>\n",
       "      <td>0</td>\n",
       "      <td>0</td>\n",
       "      <td>0</td>\n",
       "      <td>0</td>\n",
       "      <td>0</td>\n",
       "      <td>0</td>\n",
       "      <td>0</td>\n",
       "    </tr>\n",
       "    <tr>\n",
       "      <th>...</th>\n",
       "      <td>...</td>\n",
       "      <td>...</td>\n",
       "      <td>...</td>\n",
       "      <td>...</td>\n",
       "      <td>...</td>\n",
       "      <td>...</td>\n",
       "      <td>...</td>\n",
       "      <td>...</td>\n",
       "      <td>...</td>\n",
       "      <td>...</td>\n",
       "      <td>...</td>\n",
       "      <td>...</td>\n",
       "      <td>...</td>\n",
       "      <td>...</td>\n",
       "      <td>...</td>\n",
       "      <td>...</td>\n",
       "      <td>...</td>\n",
       "      <td>...</td>\n",
       "      <td>...</td>\n",
       "      <td>...</td>\n",
       "      <td>...</td>\n",
       "    </tr>\n",
       "    <tr>\n",
       "      <th>378656</th>\n",
       "      <td>29</td>\n",
       "      <td>0.050000</td>\n",
       "      <td>1</td>\n",
       "      <td>0</td>\n",
       "      <td>0</td>\n",
       "      <td>0</td>\n",
       "      <td>0</td>\n",
       "      <td>0</td>\n",
       "      <td>0</td>\n",
       "      <td>0</td>\n",
       "      <td>...</td>\n",
       "      <td>1</td>\n",
       "      <td>0</td>\n",
       "      <td>0</td>\n",
       "      <td>0</td>\n",
       "      <td>0</td>\n",
       "      <td>0</td>\n",
       "      <td>0</td>\n",
       "      <td>0</td>\n",
       "      <td>0</td>\n",
       "      <td>0</td>\n",
       "    </tr>\n",
       "    <tr>\n",
       "      <th>378657</th>\n",
       "      <td>26</td>\n",
       "      <td>10.333333</td>\n",
       "      <td>5</td>\n",
       "      <td>0</td>\n",
       "      <td>0</td>\n",
       "      <td>0</td>\n",
       "      <td>0</td>\n",
       "      <td>0</td>\n",
       "      <td>0</td>\n",
       "      <td>0</td>\n",
       "      <td>...</td>\n",
       "      <td>1</td>\n",
       "      <td>0</td>\n",
       "      <td>0</td>\n",
       "      <td>0</td>\n",
       "      <td>0</td>\n",
       "      <td>0</td>\n",
       "      <td>0</td>\n",
       "      <td>0</td>\n",
       "      <td>0</td>\n",
       "      <td>0</td>\n",
       "    </tr>\n",
       "    <tr>\n",
       "      <th>378658</th>\n",
       "      <td>45</td>\n",
       "      <td>0.133333</td>\n",
       "      <td>1</td>\n",
       "      <td>0</td>\n",
       "      <td>0</td>\n",
       "      <td>0</td>\n",
       "      <td>0</td>\n",
       "      <td>0</td>\n",
       "      <td>0</td>\n",
       "      <td>0</td>\n",
       "      <td>...</td>\n",
       "      <td>1</td>\n",
       "      <td>0</td>\n",
       "      <td>0</td>\n",
       "      <td>0</td>\n",
       "      <td>0</td>\n",
       "      <td>0</td>\n",
       "      <td>0</td>\n",
       "      <td>0</td>\n",
       "      <td>0</td>\n",
       "      <td>0</td>\n",
       "    </tr>\n",
       "    <tr>\n",
       "      <th>378659</th>\n",
       "      <td>30</td>\n",
       "      <td>1.333333</td>\n",
       "      <td>6</td>\n",
       "      <td>0</td>\n",
       "      <td>0</td>\n",
       "      <td>0</td>\n",
       "      <td>0</td>\n",
       "      <td>0</td>\n",
       "      <td>0</td>\n",
       "      <td>0</td>\n",
       "      <td>...</td>\n",
       "      <td>0</td>\n",
       "      <td>0</td>\n",
       "      <td>0</td>\n",
       "      <td>0</td>\n",
       "      <td>0</td>\n",
       "      <td>0</td>\n",
       "      <td>0</td>\n",
       "      <td>1</td>\n",
       "      <td>0</td>\n",
       "      <td>0</td>\n",
       "    </tr>\n",
       "    <tr>\n",
       "      <th>378660</th>\n",
       "      <td>27</td>\n",
       "      <td>26.200000</td>\n",
       "      <td>17</td>\n",
       "      <td>0</td>\n",
       "      <td>0</td>\n",
       "      <td>0</td>\n",
       "      <td>0</td>\n",
       "      <td>0</td>\n",
       "      <td>0</td>\n",
       "      <td>0</td>\n",
       "      <td>...</td>\n",
       "      <td>0</td>\n",
       "      <td>0</td>\n",
       "      <td>0</td>\n",
       "      <td>0</td>\n",
       "      <td>0</td>\n",
       "      <td>0</td>\n",
       "      <td>0</td>\n",
       "      <td>0</td>\n",
       "      <td>0</td>\n",
       "      <td>0</td>\n",
       "    </tr>\n",
       "  </tbody>\n",
       "</table>\n",
       "<p>372300 rows × 47 columns</p>\n",
       "</div>"
      ],
      "text/plain": [
       "        campaign_length  percentage_pledged  backers  currency_AUD  \\\n",
       "0                    58            0.000000        0             0   \n",
       "1                    59            8.070000       15             0   \n",
       "2                    44            0.488889        3             0   \n",
       "3                    29            0.020000        1             0   \n",
       "4                    55            6.579487       14             0   \n",
       "...                 ...                 ...      ...           ...   \n",
       "378656               29            0.050000        1             0   \n",
       "378657               26           10.333333        5             0   \n",
       "378658               45            0.133333        1             0   \n",
       "378659               30            1.333333        6             0   \n",
       "378660               27           26.200000       17             0   \n",
       "\n",
       "        currency_CAD  currency_CHF  currency_DKK  currency_EUR  currency_GBP  \\\n",
       "0                  0             0             0             0             1   \n",
       "1                  0             0             0             0             0   \n",
       "2                  0             0             0             0             0   \n",
       "3                  0             0             0             0             0   \n",
       "4                  0             0             0             0             0   \n",
       "...              ...           ...           ...           ...           ...   \n",
       "378656             0             0             0             0             0   \n",
       "378657             0             0             0             0             0   \n",
       "378658             0             0             0             0             0   \n",
       "378659             0             0             0             0             0   \n",
       "378660             0             0             0             0             0   \n",
       "\n",
       "        currency_HKD  ...  category_Film & Video  category_Food  \\\n",
       "0                  0  ...                      0              0   \n",
       "1                  0  ...                      1              0   \n",
       "2                  0  ...                      1              0   \n",
       "3                  0  ...                      0              0   \n",
       "4                  0  ...                      1              0   \n",
       "...              ...  ...                    ...            ...   \n",
       "378656             0  ...                      1              0   \n",
       "378657             0  ...                      1              0   \n",
       "378658             0  ...                      1              0   \n",
       "378659             0  ...                      0              0   \n",
       "378660             0  ...                      0              0   \n",
       "\n",
       "        category_Games  category_Journalism  category_Music  \\\n",
       "0                    0                    0               0   \n",
       "1                    0                    0               0   \n",
       "2                    0                    0               0   \n",
       "3                    0                    0               1   \n",
       "4                    0                    0               0   \n",
       "...                ...                  ...             ...   \n",
       "378656               0                    0               0   \n",
       "378657               0                    0               0   \n",
       "378658               0                    0               0   \n",
       "378659               0                    0               0   \n",
       "378660               0                    0               0   \n",
       "\n",
       "        category_Photography  category_Publishing  category_Technology  \\\n",
       "0                          0                    1                    0   \n",
       "1                          0                    0                    0   \n",
       "2                          0                    0                    0   \n",
       "3                          0                    0                    0   \n",
       "4                          0                    0                    0   \n",
       "...                      ...                  ...                  ...   \n",
       "378656                     0                    0                    0   \n",
       "378657                     0                    0                    0   \n",
       "378658                     0                    0                    0   \n",
       "378659                     0                    0                    1   \n",
       "378660                     0                    0                    0   \n",
       "\n",
       "        category_Theater  successful  \n",
       "0                      0           0  \n",
       "1                      0           0  \n",
       "2                      0           0  \n",
       "3                      0           0  \n",
       "4                      0           0  \n",
       "...                  ...         ...  \n",
       "378656                 0           0  \n",
       "378657                 0           0  \n",
       "378658                 0           0  \n",
       "378659                 0           0  \n",
       "378660                 0           0  \n",
       "\n",
       "[372300 rows x 47 columns]"
      ]
     },
     "execution_count": 13,
     "metadata": {},
     "output_type": "execute_result"
    }
   ],
   "source": [
    "df"
   ]
  },
  {
   "cell_type": "markdown",
   "id": "03f518df",
   "metadata": {},
   "source": [
    "# II. Split Data"
   ]
  },
  {
   "cell_type": "code",
   "execution_count": 14,
   "id": "63dcb345",
   "metadata": {},
   "outputs": [],
   "source": [
    "target = 'successful'\n",
    "y = df[target]\n",
    "X = df.drop(columns=target)"
   ]
  },
  {
   "cell_type": "code",
   "execution_count": 15,
   "id": "1824da1c",
   "metadata": {},
   "outputs": [],
   "source": [
    "X_train, X_test, y_train, y_test = train_test_split(X, y,train_size=.6, test_size=.4, random_state=1)\n",
    "\n",
    "X_test, X_val, y_test, y_val = train_test_split(X_test, y_test,train_size=.5,test_size=.5, random_state=1)"
   ]
  },
  {
   "cell_type": "markdown",
   "id": "38895202",
   "metadata": {},
   "source": [
    "# III. Establish Baseline"
   ]
  },
  {
   "cell_type": "code",
   "execution_count": 16,
   "id": "0667f035",
   "metadata": {},
   "outputs": [
    {
     "data": {
      "text/plain": [
       "0.6408317664965529"
      ]
     },
     "execution_count": 16,
     "metadata": {},
     "output_type": "execute_result"
    }
   ],
   "source": [
    "y_train.value_counts(normalize=True).max()"
   ]
  },
  {
   "cell_type": "markdown",
   "id": "bb342cb4",
   "metadata": {},
   "source": [
    "# IV. Build Model"
   ]
  },
  {
   "cell_type": "code",
   "execution_count": 17,
   "id": "873a36f9",
   "metadata": {},
   "outputs": [
    {
     "data": {
      "text/plain": [
       "Pipeline(steps=[('randomforestclassifier',\n",
       "                 RandomForestClassifier(max_samples=23, n_jobs=-1,\n",
       "                                        random_state=42))])"
      ]
     },
     "execution_count": 17,
     "metadata": {},
     "output_type": "execute_result"
    }
   ],
   "source": [
    "model_rf = make_pipeline(\n",
    "   RandomForestClassifier(max_samples=23,random_state=42,n_jobs=-1)\n",
    ")\n",
    "\n",
    "model_rf.fit(X_train, y_train)"
   ]
  },
  {
   "cell_type": "markdown",
   "id": "adb9f5f9",
   "metadata": {},
   "source": [
    "# V. Tune Model"
   ]
  },
  {
   "cell_type": "markdown",
   "id": "bbbf5ba7",
   "metadata": {},
   "source": [
    " * tuning max_samples"
   ]
  },
  {
   "cell_type": "code",
   "execution_count": 18,
   "id": "05e69823",
   "metadata": {},
   "outputs": [],
   "source": [
    "%matplotlib inline"
   ]
  },
  {
   "cell_type": "code",
   "execution_count": 19,
   "id": "2f5e936d",
   "metadata": {},
   "outputs": [
    {
     "data": {
      "image/png": "[encoded data removed]",
      "text/plain": [
       "<Figure size 432x288 with 1 Axes>"
      ]
     },
     "metadata": {
      "needs_background": "light"
     },
     "output_type": "display_data"
    }
   ],
   "source": [
    "train_acc = []\n",
    "val_acc = []\n",
    "samples = np.arange(.1, 1, 0.1)\n",
    "\n",
    "for sample in samples:\n",
    "\n",
    "  forest_model = make_pipeline(\n",
    "      RandomForestClassifier(max_samples=sample, n_estimators=29, random_state=42, n_jobs =-1)\n",
    "  )\n",
    "\n",
    "  forest_model.fit(X_train, y_train)\n",
    "  val_acc.append(forest_model.score(X_val, y_val))\n",
    "\n",
    "plt.plot(samples, val_acc, color='green')\n",
    "plt.xlabel('max_samples')\n",
    "plt.ylabel('accuracy')\n",
    "\n",
    "plt.show()"
   ]
  },
  {
   "cell_type": "code",
   "execution_count": 20,
   "id": "6aa1e4c7",
   "metadata": {},
   "outputs": [
    {
     "data": {
      "text/plain": [
       "array([0.3, 0.7])"
      ]
     },
     "execution_count": 20,
     "metadata": {},
     "output_type": "execute_result"
    }
   ],
   "source": [
    "max_accuracy = max(val_acc)\n",
    "max_samples = np.where(val_acc == max_accuracy)\n",
    "xmax = samples[max_samples]\n",
    "\n",
    "xmax"
   ]
  },
  {
   "cell_type": "markdown",
   "id": "3ebec1a1",
   "metadata": {},
   "source": [
    " * tuning max_samples"
   ]
  },
  {
   "cell_type": "code",
   "execution_count": 22,
   "id": "a4022561",
   "metadata": {},
   "outputs": [
    {
     "data": {
      "image/png": "[encoded data removed]",
      "text/plain": [
       "<Figure size 432x288 with 1 Axes>"
      ]
     },
     "metadata": {
      "needs_background": "light"
     },
     "output_type": "display_data"
    }
   ],
   "source": [
    "train_acc = []\n",
    "val_acc = []\n",
    "estimators = np.arange(1, 50, 1)\n",
    "\n",
    "for estimator in estimators:\n",
    "\n",
    "  forest_model = make_pipeline(\n",
    "      RandomForestClassifier(max_samples=.3, n_estimators=estimator, random_state=42, n_jobs =-1)\n",
    "  )\n",
    "\n",
    "  forest_model.fit(X_train, y_train)\n",
    "  val_acc.append(forest_model.score(X_val, y_val))\n",
    "\n",
    "plt.plot(estimators, val_acc, color='blue')\n",
    "plt.xlabel('n_estimators')\n",
    "plt.ylabel('accuracy')\n",
    "plt.show()"
   ]
  },
  {
   "cell_type": "code",
   "execution_count": 23,
   "id": "0d23f9f3",
   "metadata": {},
   "outputs": [
    {
     "data": {
      "text/plain": [
       "array([11, 13, 15, 16, 17, 18, 19, 20, 21, 22, 23, 24, 25, 26, 27, 28, 29,\n",
       "       31, 33, 35, 39])"
      ]
     },
     "execution_count": 23,
     "metadata": {},
     "output_type": "execute_result"
    }
   ],
   "source": [
    "ymax = max(val_acc)\n",
    "xpos = np.where(val_acc == ymax)\n",
    "xmax = estimators[xpos]\n",
    "\n",
    "xmax"
   ]
  },
  {
   "cell_type": "markdown",
   "id": "555b0155",
   "metadata": {},
   "source": [
    "# VI. Check Metrics"
   ]
  },
  {
   "cell_type": "code",
   "execution_count": 24,
   "id": "19ca2870",
   "metadata": {},
   "outputs": [
    {
     "name": "stdout",
     "output_type": "stream",
     "text": [
      "Training Accuracy 0.9889739457426806\n",
      "Validation Accuracy 0.9893365565404244\n",
      "Testing Accuracy 0.9891888262154177\n"
     ]
    }
   ],
   "source": [
    "print('Training Accuracy', model_rf.score(X_train, y_train))\n",
    "print('Validation Accuracy', model_rf.score(X_val,y_val))\n",
    "print('Testing Accuracy', model_rf.score(X_test, y_test))"
   ]
  },
  {
   "cell_type": "markdown",
   "id": "2f8a8d6c",
   "metadata": {},
   "source": [
    "# VII. Communicate Resultes"
   ]
  }
 ],
 "metadata": {
  "kernelspec": {
   "display_name": "Python 3",
   "language": "python",
   "name": "python3"
  },
  "language_info": {
   "codemirror_mode": {
    "name": "ipython",
    "version": 3
   },
   "file_extension": ".py",
   "mimetype": "text/x-python",
   "name": "python",
   "nbconvert_exporter": "python",
   "pygments_lexer": "ipython3",
   "version": "3.7.0"
  }
 },
 "nbformat": 4,
 "nbformat_minor": 5
}
